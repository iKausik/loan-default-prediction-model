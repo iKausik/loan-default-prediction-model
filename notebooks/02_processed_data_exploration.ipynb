{
 "cells": [
  {
   "cell_type": "code",
   "execution_count": null,
   "id": "fe5dbd03",
   "metadata": {},
   "outputs": [],
   "source": [
    "import polars as pl\n",
    "import numpy as np\n",
    "import datetime as dt\n",
    "\n",
    "df = pl.scan_parquet(\"../data/processed/loan_data_processed_v1.parquet\")"
   ]
  },
  {
   "cell_type": "code",
   "execution_count": null,
   "id": "1cb6bb8e",
   "metadata": {},
   "outputs": [],
   "source": [
    "print(\"\\nColumns:\\n\", df.collect().columns)\n",
    "# print(\"\\nNull values:\\n\", df.collect().null_count().sum())\n",
    "# print(\"\\nDuplicates:\\n\", df.collect().is_duplicated().sum())\n",
    "# print(\"\\nCleaned data shape:\\n\", df.collect().shape)\n",
    "# print(\"\\nData types:\\n\", df.collect_schema())"
   ]
  },
  {
   "cell_type": "code",
   "execution_count": null,
   "id": "b9702166",
   "metadata": {},
   "outputs": [],
   "source": [
    "# print(\"\\nData type:\\n\", df.collect_schema()[\"earliest_credit_line_date\"])\n",
    "\n",
    "# df = df.with_columns(\n",
    "#     pl.col(\"earliest_credit_line_date\").str.strptime(pl.Date, \"%b-%Y\").alias(\"earliest_credit_line_date\")\n",
    "# )\n",
    "\n",
    "# print(\"\\nData type:\\n\", df.collect_schema()[\"earliest_credit_line_date\"])\n",
    "# print(df.select(\"earliest_credit_line_date\").collect().null_count().sum())\n",
    "# print(df.filter(pl.col(\"earliest_credit_line_date\").is_null()).select(\"earliest_credit_line_date\").collect())\n",
    "# df = df.filter(pl.col(\"earliest_credit_line_date\").is_not_null())"
   ]
  },
  {
   "cell_type": "code",
   "execution_count": null,
   "id": "cce23651",
   "metadata": {},
   "outputs": [],
   "source": [
    "# for col in df.collect().columns:\n",
    "#     print(\"\\n\", col, \"\\n\")\n",
    "\n",
    "#     sample_data = df.select([col]).with_columns(pl.lit(np.random.rand()).alias(\"__random_sort__\")).sort(\"__random_sort__\").limit(10).drop(\"__random_sort__\").collect()\n",
    "\n",
    "#     print(sample_data)"
   ]
  },
  {
   "cell_type": "code",
   "execution_count": null,
   "id": "2770142f",
   "metadata": {},
   "outputs": [],
   "source": [
    "print(dt.datetime.now().date())"
   ]
  }
 ],
 "metadata": {
  "kernelspec": {
   "display_name": "base",
   "language": "python",
   "name": "python3"
  },
  "language_info": {
   "codemirror_mode": {
    "name": "ipython",
    "version": 3
   },
   "file_extension": ".py",
   "mimetype": "text/x-python",
   "name": "python",
   "nbconvert_exporter": "python",
   "pygments_lexer": "ipython3",
   "version": "3.12.4"
  }
 },
 "nbformat": 4,
 "nbformat_minor": 5
}
