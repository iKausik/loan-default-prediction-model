{
 "cells": [
  {
   "cell_type": "code",
   "execution_count": null,
   "id": "fe5dbd03",
   "metadata": {},
   "outputs": [],
   "source": [
    "import polars as pl\n",
    "import numpy as np\n",
    "\n",
    "df = pl.scan_parquet(\"../data/raw/loan_data.parquet\")"
   ]
  },
  {
   "cell_type": "code",
   "execution_count": null,
   "id": "4b54179a",
   "metadata": {},
   "outputs": [],
   "source": [
    "# print(\"\\nColumns:\\n\", df.collect().columns)\n",
    "# print(\"\\nNull values:\\n\", df.collect().null_count().sum())\n",
    "# print(\"\\nDuplicates:\\n\", df.collect().is_duplicated().sum())\n",
    "# print(\"\\nCleaned data shape:\\n\", df.collect().shape)\n",
    "# print(\"\\nData types:\\n\", df.collect_schema())\n"
   ]
  },
  {
   "cell_type": "code",
   "execution_count": null,
   "id": "86960f2c",
   "metadata": {},
   "outputs": [],
   "source": [
    "print(\"\\nData type:\\n\", df.collect_schema()[\"earliest_cr_line\"])\n",
    "\n",
    "df = df.with_columns(\n",
    "    pl.col(\"earliest_cr_line\").str.strptime(pl.Date, \"%b-%Y\").alias(\"earliest_cr_line\")\n",
    ")\n",
    "\n",
    "print(\"\\nData type:\\n\", df.collect_schema()[\"earliest_cr_line\"])\n",
    "print(df.select(\"earliest_cr_line\").collect().null_count().sum())"
   ]
  },
  {
   "cell_type": "code",
   "execution_count": null,
   "id": "1cb6bb8e",
   "metadata": {},
   "outputs": [],
   "source": [
    "# for col in df.collect().columns:\n",
    "#     print(\"\\n\", col, \"\\n\")\n",
    "\n",
    "#     sample_data = df.select([col]).with_columns(pl.lit(np.random.rand()).alias(\"__random_sort__\")).sort(\"__random_sort__\").limit(10).drop(\"__random_sort__\").collect()\n",
    "\n",
    "#     print(sample_data)"
   ]
  }
 ],
 "metadata": {
  "kernelspec": {
   "display_name": "base",
   "language": "python",
   "name": "python3"
  },
  "language_info": {
   "codemirror_mode": {
    "name": "ipython",
    "version": 3
   },
   "file_extension": ".py",
   "mimetype": "text/x-python",
   "name": "python",
   "nbconvert_exporter": "python",
   "pygments_lexer": "ipython3",
   "version": "3.12.4"
  }
 },
 "nbformat": 4,
 "nbformat_minor": 5
}
